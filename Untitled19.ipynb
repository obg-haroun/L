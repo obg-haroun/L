{
 "cells": [
  {
   "cell_type": "code",
   "execution_count": 1,
   "id": "2456d746",
   "metadata": {},
   "outputs": [],
   "source": [
    "class Point3D:\n",
    "    def __init__(self, x, y, z):\n",
    "        self.x = x\n",
    "        self.y = y\n",
    "        self.z = z\n",
    "    \n",
    "    def get_coordinates(self):\n",
    "        return (self.x, self.y, self.z)"
   ]
  },
  {
   "cell_type": "code",
   "execution_count": 2,
   "id": "1045e148",
   "metadata": {},
   "outputs": [],
   "source": [
    "my_point = Point3D(1, 2, 3)"
   ]
  },
  {
   "cell_type": "code",
   "execution_count": 3,
   "id": "91958374",
   "metadata": {},
   "outputs": [
    {
     "name": "stdout",
     "output_type": "stream",
     "text": [
      "my_point.get_coordinates()\n"
     ]
    }
   ],
   "source": [
    "print ('my_point.get_coordinates()')"
   ]
  },
  {
   "cell_type": "code",
   "execution_count": 4,
   "id": "544d0820",
   "metadata": {},
   "outputs": [],
   "source": [
    "class Rectangle:\n",
    "    def __init__(self, longueur, largeur):\n",
    "        self.longueur = longueur\n",
    "        self.largeur = largeur\n",
    "        \n",
    "    def aire (self):\n",
    "        return self.longueur * self.largeur\n",
    "    \n",
    "    def perimetre (self):\n",
    "        return 2 * (self.longueur + self.largeur)"
   ]
  },
  {
   "cell_type": "code",
   "execution_count": 5,
   "id": "869fb2d4",
   "metadata": {},
   "outputs": [],
   "source": [
    "my_rectangle = Rectangle(longueur = 4, largeur = 3)"
   ]
  },
  {
   "cell_type": "code",
   "execution_count": 6,
   "id": "9a354925",
   "metadata": {},
   "outputs": [],
   "source": [
    "aire_rectangle = my_rectangle.aire()\n",
    "perimetre_rectangle = my_rectangle.perimetre()"
   ]
  },
  {
   "cell_type": "code",
   "execution_count": 7,
   "id": "a041fa34",
   "metadata": {},
   "outputs": [
    {
     "name": "stdout",
     "output_type": "stream",
     "text": [
      "Aire du rectangle : 12\n",
      "Périmètre du rectangle : 14\n"
     ]
    }
   ],
   "source": [
    "print(f\"Aire du rectangle : {aire_rectangle}\")\n",
    "print(f\"Périmètre du rectangle : {perimetre_rectangle}\")"
   ]
  },
  {
   "cell_type": "code",
   "execution_count": 9,
   "id": "35cf3ca0",
   "metadata": {},
   "outputs": [
    {
     "data": {
      "text/plain": [
       "__main__.Rectangle"
      ]
     },
     "execution_count": 9,
     "metadata": {},
     "output_type": "execute_result"
    }
   ],
   "source": [
    "Rectangle"
   ]
  },
  {
   "cell_type": "code",
   "execution_count": 10,
   "id": "ba6f1546",
   "metadata": {},
   "outputs": [],
   "source": [
    "import math"
   ]
  },
  {
   "cell_type": "code",
   "execution_count": 11,
   "id": "2a3b8a41",
   "metadata": {},
   "outputs": [],
   "source": [
    "class Cercle:\n",
    "    def __init__(self, centre_x, centre_y, rayon):\n",
    "        self.centre_x = centre_x\n",
    "        self.centre_y = centre_y\n",
    "        self.rayon = rayon\n",
    "\n",
    "    def aire(self):\n",
    "        return math.pi * (self.rayon ** 2)\n",
    "\n",
    "    def perimetre(self):\n",
    "        return 2 * math.pi * self.rayon\n",
    "\n",
    "    def isInside(self, point_x, point_y):\n",
    "        distance_from_center = math.sqrt((point_x - self.centre_x) ** 2 + (point_y - self.centre_y) ** 2)\n",
    "        return distance_from_center <= self.rayon"
   ]
  },
  {
   "cell_type": "code",
   "execution_count": 12,
   "id": "ba565a27",
   "metadata": {},
   "outputs": [],
   "source": [
    "mon_cercle = Cercle(0, 0, 5)"
   ]
  },
  {
   "cell_type": "code",
   "execution_count": 13,
   "id": "2844b613",
   "metadata": {},
   "outputs": [],
   "source": [
    "aire_cercle = mon_cercle.aire()\n",
    "perimetre_cercle = mon_cercle.perimetre()"
   ]
  },
  {
   "cell_type": "code",
   "execution_count": 14,
   "id": "e532d664",
   "metadata": {},
   "outputs": [],
   "source": [
    "point_test_x, point_test_y = 3, 4\n",
    "est_dedans = mon_cercle.isInside(point_test_x, point_test_y)"
   ]
  },
  {
   "cell_type": "code",
   "execution_count": 16,
   "id": "f28f2e07",
   "metadata": {},
   "outputs": [
    {
     "name": "stdout",
     "output_type": "stream",
     "text": [
      "Aire du cercle : 78.53981633974483\n",
      "Périmètre du cercle : 31.41592653589793\n",
      "Le point (3, 4) est-il à l'intérieur du cercle ? True\n"
     ]
    }
   ],
   "source": [
    "print(f\"Aire du cercle : {aire_cercle}\")\n",
    "print(f\"Périmètre du cercle : {perimetre_cercle}\")\n",
    "print(f\"Le point ({point_test_x}, {point_test_y}) est-il à l'intérieur du cercle ? {est_dedans}\")"
   ]
  },
  {
   "cell_type": "code",
   "execution_count": 17,
   "id": "f0b16f61",
   "metadata": {},
   "outputs": [],
   "source": [
    "class Banque:\n",
    "    def __init__(self, solde=0):\n",
    "        self.solde = solde\n",
    "\n",
    "    def depot(self, montant):\n",
    "        self.solde += montant\n",
    "        return self.solde\n",
    "\n",
    "    def retrait(self, montant):\n",
    "        if montant <= self.solde:\n",
    "            self.solde -= montant\n",
    "            return self.solde\n",
    "        else:\n",
    "            print(\"Fonds insuffisants. Le retrait n'est pas possible.\")\n",
    "            return self.solde"
   ]
  },
  {
   "cell_type": "code",
   "execution_count": 18,
   "id": "c140016b",
   "metadata": {},
   "outputs": [],
   "source": [
    "mon_compte = Banque(solde=1000)"
   ]
  },
  {
   "cell_type": "code",
   "execution_count": 20,
   "id": "71f46f62",
   "metadata": {},
   "outputs": [
    {
     "name": "stdout",
     "output_type": "stream",
     "text": [
      "Nouveau solde après dépôt : 1500\n"
     ]
    }
   ],
   "source": [
    "nouveau_solde_apres_depot = mon_compte.depot(500)\n",
    "print(\"Nouveau solde après dépôt : {}\".format(nouveau_solde_apres_depot))"
   ]
  },
  {
   "cell_type": "code",
   "execution_count": 21,
   "id": "ad01e794",
   "metadata": {},
   "outputs": [
    {
     "name": "stdout",
     "output_type": "stream",
     "text": [
      "Nouveau solde après retrait : 1300\n"
     ]
    }
   ],
   "source": [
    "nouveau_solde_apres_retrait = mon_compte.retrait(200)\n",
    "print(\"Nouveau solde après retrait : {}\".format(nouveau_solde_apres_retrait))"
   ]
  },
  {
   "cell_type": "code",
   "execution_count": 22,
   "id": "82386759",
   "metadata": {},
   "outputs": [
    {
     "name": "stdout",
     "output_type": "stream",
     "text": [
      "Nouveau solde après retrait insuffisant : 100\n"
     ]
    }
   ],
   "source": [
    "nouveau_solde_apres_retrait_insuffisant = mon_compte.retrait(1200)\n",
    "print(\"Nouveau solde après retrait insuffisant : {}\".format(nouveau_solde_apres_retrait_insuffisant))"
   ]
  },
  {
   "cell_type": "code",
   "execution_count": null,
   "id": "42b2d2ea",
   "metadata": {},
   "outputs": [],
   "source": []
  }
 ],
 "metadata": {
  "kernelspec": {
   "display_name": "Python 3 (ipykernel)",
   "language": "python",
   "name": "python3"
  },
  "language_info": {
   "codemirror_mode": {
    "name": "ipython",
    "version": 3
   },
   "file_extension": ".py",
   "mimetype": "text/x-python",
   "name": "python",
   "nbconvert_exporter": "python",
   "pygments_lexer": "ipython3",
   "version": "3.11.5"
  }
 },
 "nbformat": 4,
 "nbformat_minor": 5
}
