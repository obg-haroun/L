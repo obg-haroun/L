{
 "cells": [
  {
   "cell_type": "code",
   "execution_count": 7,
   "id": "261f4e5f",
   "metadata": {},
   "outputs": [],
   "source": [
    "import tkinter as tk"
   ]
  },
  {
   "cell_type": "code",
   "execution_count": 8,
   "id": "899271c1",
   "metadata": {},
   "outputs": [],
   "source": [
    "def fahrenheit_to_celsius():\n",
    "    try:\n",
    "        fahrenheit = float(ent_temperature.get())\n",
    "        celsius = (fahrenheit - 32) * 5/9\n",
    "        lbl_result[\"text\"] = f\"{celsius:.2f} \\N{DEGREE CELSIUS}\"\n",
    "    except ValueError:\n",
    "        lbl_result[\"text\"] = \"Entrez une température valide en Fahrenheit.\"\n"
   ]
  },
  {
   "cell_type": "code",
   "execution_count": 9,
   "id": "b3fa1c66",
   "metadata": {},
   "outputs": [
    {
     "data": {
      "text/plain": [
       "''"
      ]
     },
     "execution_count": 9,
     "metadata": {},
     "output_type": "execute_result"
    }
   ],
   "source": [
    "window = tk.Tk()\n",
    "window.title(\"Convertisseur de Température\")\n",
    "window.resizable(width=False, height=False)"
   ]
  },
  {
   "cell_type": "code",
   "execution_count": 10,
   "id": "8d10c4f4",
   "metadata": {},
   "outputs": [],
   "source": [
    "frm_entry = tk.Frame(master=window)"
   ]
  },
  {
   "cell_type": "code",
   "execution_count": 11,
   "id": "81fc9bd4",
   "metadata": {},
   "outputs": [],
   "source": [
    "ent_temperature = tk.Entry(master=frm_entry, width=10)"
   ]
  },
  {
   "cell_type": "code",
   "execution_count": 12,
   "id": "68492f1c",
   "metadata": {},
   "outputs": [],
   "source": [
    "lbl_temp = tk.Label(master=frm_entry, text=\"\\N{DEGREE FAHRENHEIT}\")"
   ]
  },
  {
   "cell_type": "code",
   "execution_count": null,
   "id": "f58df4d5",
   "metadata": {},
   "outputs": [],
   "source": [
    "nt_temperature.grid(row=0, column=0, sticky=\"e\")\n",
    "lbl_temp.grid(row=0, column=1, sticky=\"w\")\n"
   ]
  }
 ],
 "metadata": {
  "kernelspec": {
   "display_name": "Python 3 (ipykernel)",
   "language": "python",
   "name": "python3"
  },
  "language_info": {
   "codemirror_mode": {
    "name": "ipython",
    "version": 3
   },
   "file_extension": ".py",
   "mimetype": "text/x-python",
   "name": "python",
   "nbconvert_exporter": "python",
   "pygments_lexer": "ipython3",
   "version": "3.11.5"
  }
 },
 "nbformat": 4,
 "nbformat_minor": 5
}
