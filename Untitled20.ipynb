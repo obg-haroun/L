{
 "cells": [
  {
   "cell_type": "code",
   "execution_count": 1,
   "id": "dd8ad23c",
   "metadata": {},
   "outputs": [],
   "source": [
    "import numpy as np"
   ]
  },
  {
   "cell_type": "code",
   "execution_count": 2,
   "id": "65ef3172",
   "metadata": {},
   "outputs": [
    {
     "name": "stdout",
     "output_type": "stream",
     "text": [
      "Entrez le nombre d'élèves : 2\n"
     ]
    }
   ],
   "source": [
    "nombre_eleves = int(input(\"Entrez le nombre d'élèves : \"))"
   ]
  },
  {
   "cell_type": "code",
   "execution_count": 3,
   "id": "7fa4e8e2",
   "metadata": {},
   "outputs": [
    {
     "name": "stdout",
     "output_type": "stream",
     "text": [
      "Entrez le nombre de matières : 2\n"
     ]
    }
   ],
   "source": [
    "nombre_matieres = int(input(\"Entrez le nombre de matières : \"))"
   ]
  },
  {
   "cell_type": "code",
   "execution_count": 4,
   "id": "3bb565b6",
   "metadata": {},
   "outputs": [
    {
     "name": "stdout",
     "output_type": "stream",
     "text": [
      "Il y a 2 élève(s) et 2 matière(s).\n"
     ]
    }
   ],
   "source": [
    "print(f\"Il y a {nombre_eleves} élève(s) et {nombre_matieres} matière(s).\")"
   ]
  },
  {
   "cell_type": "code",
   "execution_count": 5,
   "id": "6b27328e",
   "metadata": {},
   "outputs": [],
   "source": [
    "import numpy as np"
   ]
  },
  {
   "cell_type": "code",
   "execution_count": 6,
   "id": "7e1c03f9",
   "metadata": {},
   "outputs": [
    {
     "name": "stdout",
     "output_type": "stream",
     "text": [
      "Entrez le nombre d'élèves : 2\n"
     ]
    }
   ],
   "source": [
    "nombre_eleves = int(input(\"Entrez le nombre d'élèves : \"))"
   ]
  },
  {
   "cell_type": "code",
   "execution_count": 7,
   "id": "37e17f9b",
   "metadata": {},
   "outputs": [
    {
     "name": "stdout",
     "output_type": "stream",
     "text": [
      "Entrez le nombre de matières : 2\n"
     ]
    }
   ],
   "source": [
    "nombre_matieres = int(input(\"Entrez le nombre de matières : \"))"
   ]
  },
  {
   "cell_type": "code",
   "execution_count": 8,
   "id": "89d5909e",
   "metadata": {},
   "outputs": [],
   "source": [
    "notes = np.zeros((nombre_eleves, nombre_matieres))"
   ]
  },
  {
   "cell_type": "code",
   "execution_count": 9,
   "id": "785f7c67",
   "metadata": {},
   "outputs": [
    {
     "name": "stdout",
     "output_type": "stream",
     "text": [
      "Entrez la note de l'élève 1 pour la matière 1 : 12\n",
      "Entrez la note de l'élève 1 pour la matière 2 : 12\n",
      "Entrez la note de l'élève 2 pour la matière 1 : 12\n",
      "Entrez la note de l'élève 2 pour la matière 2 : 12\n"
     ]
    }
   ],
   "source": [
    "for i in range(nombre_eleves):\n",
    "    for j in range(nombre_matieres):\n",
    "        note = float(input(f\"Entrez la note de l'élève {i + 1} pour la matière {j + 1} : \"))\n",
    "        notes[i, j] = note"
   ]
  },
  {
   "cell_type": "code",
   "execution_count": 10,
   "id": "27e73dc9",
   "metadata": {},
   "outputs": [
    {
     "name": "stdout",
     "output_type": "stream",
     "text": [
      "Tableau des notes :\n",
      " [[12. 12.]\n",
      " [12. 12.]]\n"
     ]
    }
   ],
   "source": [
    "print(\"Tableau des notes :\\n\", notes)"
   ]
  },
  {
   "cell_type": "code",
   "execution_count": 11,
   "id": "d42fd999",
   "metadata": {},
   "outputs": [],
   "source": [
    "import numpy as np"
   ]
  },
  {
   "cell_type": "code",
   "execution_count": 12,
   "id": "a41c6190",
   "metadata": {},
   "outputs": [
    {
     "name": "stdout",
     "output_type": "stream",
     "text": [
      "Entrez le nombre d'élèves : 2\n"
     ]
    }
   ],
   "source": [
    "nombre_eleves = int(input(\"Entrez le nombre d'élèves : \"))"
   ]
  },
  {
   "cell_type": "code",
   "execution_count": 13,
   "id": "9f508ee5",
   "metadata": {},
   "outputs": [
    {
     "name": "stdout",
     "output_type": "stream",
     "text": [
      "Entrez le nombre de matières : 2\n"
     ]
    }
   ],
   "source": [
    "nombre_matieres = int(input(\"Entrez le nombre de matières : \"))"
   ]
  },
  {
   "cell_type": "code",
   "execution_count": 14,
   "id": "64d44bc4",
   "metadata": {},
   "outputs": [],
   "source": [
    "notes = np.zeros((nombre_eleves, nombre_matieres))"
   ]
  },
  {
   "cell_type": "code",
   "execution_count": 15,
   "id": "5f005c00",
   "metadata": {},
   "outputs": [
    {
     "name": "stdout",
     "output_type": "stream",
     "text": [
      "Entrez la note de l'élève 1 pour la matière 1 : 12\n",
      "Entrez la note de l'élève 1 pour la matière 2 : 12\n",
      "Entrez la note de l'élève 2 pour la matière 1 : 12\n",
      "Entrez la note de l'élève 2 pour la matière 2 : 12\n"
     ]
    }
   ],
   "source": [
    "for i in range(nombre_eleves):\n",
    "    for j in range(nombre_matieres):\n",
    "        note = float(input(f\"Entrez la note de l'élève {i + 1} pour la matière {j + 1} : \"))\n",
    "        notes[i, j] = note"
   ]
  },
  {
   "cell_type": "code",
   "execution_count": 16,
   "id": "6706eb84",
   "metadata": {},
   "outputs": [
    {
     "name": "stdout",
     "output_type": "stream",
     "text": [
      "Tableau des notes :\n",
      " [[12. 12.]\n",
      " [12. 12.]]\n"
     ]
    }
   ],
   "source": [
    "print(\"Tableau des notes :\\n\", notes)"
   ]
  },
  {
   "cell_type": "code",
   "execution_count": 17,
   "id": "95d4f65f",
   "metadata": {},
   "outputs": [],
   "source": [
    "import numpy as np"
   ]
  },
  {
   "cell_type": "code",
   "execution_count": 18,
   "id": "904c85d5",
   "metadata": {},
   "outputs": [
    {
     "name": "stdout",
     "output_type": "stream",
     "text": [
      "Entrez le nombre d'élèves : 2\n"
     ]
    }
   ],
   "source": [
    "nombre_eleves = int(input(\"Entrez le nombre d'élèves : \"))\n"
   ]
  },
  {
   "cell_type": "code",
   "execution_count": 19,
   "id": "eb4a9515",
   "metadata": {},
   "outputs": [
    {
     "name": "stdout",
     "output_type": "stream",
     "text": [
      "Entrez le nombre de matières : 2\n"
     ]
    }
   ],
   "source": [
    "nombre_matieres = int(input(\"Entrez le nombre de matières : \"))\n"
   ]
  },
  {
   "cell_type": "code",
   "execution_count": 20,
   "id": "19b6d2e7",
   "metadata": {},
   "outputs": [],
   "source": [
    "notes = np.zeros((nombre_eleves, nombre_matieres))"
   ]
  },
  {
   "cell_type": "code",
   "execution_count": 21,
   "id": "4ca976f0",
   "metadata": {},
   "outputs": [
    {
     "name": "stdout",
     "output_type": "stream",
     "text": [
      "Entrez la note de l'élève 1 pour la matière 1 : 1\n",
      "Entrez la note de l'élève 1 pour la matière 2 : 2\n",
      "Entrez la note de l'élève 2 pour la matière 1 : 21\n",
      "Entrez la note de l'élève 2 pour la matière 2 : 14\n"
     ]
    }
   ],
   "source": [
    "for i in range(nombre_eleves):\n",
    "    for j in range(nombre_matieres):\n",
    "        note = float(input(f\"Entrez la note de l'élève {i + 1} pour la matière {j + 1} : \"))\n",
    "        notes[i, j] = note"
   ]
  },
  {
   "cell_type": "code",
   "execution_count": 22,
   "id": "c5616bab",
   "metadata": {},
   "outputs": [],
   "source": [
    "notes_totales_par_eleve = np.sum(notes, axis=1)"
   ]
  },
  {
   "cell_type": "code",
   "execution_count": 23,
   "id": "325db5c9",
   "metadata": {},
   "outputs": [
    {
     "name": "stdout",
     "output_type": "stream",
     "text": [
      "Tableau des notes :\n",
      " [[ 1.  2.]\n",
      " [21. 14.]]\n",
      "Notes totales par élève :\n",
      " [ 3. 35.]\n"
     ]
    }
   ],
   "source": [
    "print(\"Tableau des notes :\\n\", notes)\n",
    "print(\"Notes totales par élève :\\n\", notes_totales_par_eleve)"
   ]
  },
  {
   "cell_type": "code",
   "execution_count": 24,
   "id": "eebd57ba",
   "metadata": {},
   "outputs": [],
   "source": [
    "import numpy as np"
   ]
  },
  {
   "cell_type": "code",
   "execution_count": 26,
   "id": "6dd2f233",
   "metadata": {},
   "outputs": [
    {
     "name": "stdout",
     "output_type": "stream",
     "text": [
      "Entrez le nombre d'élèves : 2\n"
     ]
    }
   ],
   "source": [
    "nombre_eleves = int(input(\"Entrez le nombre d'élèves : \"))"
   ]
  },
  {
   "cell_type": "code",
   "execution_count": 27,
   "id": "2964ea33",
   "metadata": {},
   "outputs": [
    {
     "name": "stdout",
     "output_type": "stream",
     "text": [
      "Entrez le nombre de matières : 2\n"
     ]
    }
   ],
   "source": [
    "nombre_matieres = int(input(\"Entrez le nombre de matières : \"))"
   ]
  },
  {
   "cell_type": "code",
   "execution_count": 28,
   "id": "513dccf4",
   "metadata": {},
   "outputs": [],
   "source": [
    "notes = np.zeros((nombre_eleves, nombre_matieres))"
   ]
  },
  {
   "cell_type": "code",
   "execution_count": 29,
   "id": "d6bfe08c",
   "metadata": {},
   "outputs": [
    {
     "name": "stdout",
     "output_type": "stream",
     "text": [
      "Entrez la note de l'élève 1 pour la matière 1 : 15\n",
      "Entrez la note de l'élève 1 pour la matière 2 : 17\n",
      "Entrez la note de l'élève 2 pour la matière 1 : 12\n",
      "Entrez la note de l'élève 2 pour la matière 2 : 9\n"
     ]
    }
   ],
   "source": [
    "for i in range(nombre_eleves):\n",
    "    for j in range(nombre_matieres):\n",
    "        note = float(input(f\"Entrez la note de l'élève {i + 1} pour la matière {j + 1} : \"))\n",
    "        notes[i, j] = note"
   ]
  },
  {
   "cell_type": "code",
   "execution_count": 30,
   "id": "5473288e",
   "metadata": {},
   "outputs": [],
   "source": [
    "notes_totales_par_eleve = np.sum(notes, axis=1)"
   ]
  },
  {
   "cell_type": "code",
   "execution_count": 31,
   "id": "869147fd",
   "metadata": {},
   "outputs": [],
   "source": [
    "pourcentages_par_eleve = (notes_totales_par_eleve / (nombre_matieres * 100)) * 100"
   ]
  },
  {
   "cell_type": "code",
   "execution_count": 32,
   "id": "78c86fc6",
   "metadata": {},
   "outputs": [
    {
     "name": "stdout",
     "output_type": "stream",
     "text": [
      "Tableau des notes :\n",
      " [[15. 17.]\n",
      " [12.  9.]]\n",
      "Notes totales par élève :\n",
      " [32. 21.]\n",
      "Pourcentages par élève :\n",
      " [16.  10.5]\n"
     ]
    }
   ],
   "source": [
    "print(\"Tableau des notes :\\n\", notes)\n",
    "print(\"Notes totales par élève :\\n\", notes_totales_par_eleve)\n",
    "print(\"Pourcentages par élève :\\n\", pourcentages_par_eleve)"
   ]
  },
  {
   "cell_type": "code",
   "execution_count": 33,
   "id": "fbd5cc87",
   "metadata": {},
   "outputs": [],
   "source": [
    "import numpy as np"
   ]
  },
  {
   "cell_type": "code",
   "execution_count": 34,
   "id": "bf4df448",
   "metadata": {},
   "outputs": [
    {
     "name": "stdout",
     "output_type": "stream",
     "text": [
      "Entrez le nombre d'élèves : 2\n"
     ]
    }
   ],
   "source": [
    "nombre_eleves = int(input(\"Entrez le nombre d'élèves : \"))"
   ]
  },
  {
   "cell_type": "code",
   "execution_count": 35,
   "id": "66cc8079",
   "metadata": {},
   "outputs": [
    {
     "name": "stdout",
     "output_type": "stream",
     "text": [
      "Entrez le nombre de matières : 2\n"
     ]
    }
   ],
   "source": [
    "nombre_matieres = int(input(\"Entrez le nombre de matières : \"))"
   ]
  },
  {
   "cell_type": "code",
   "execution_count": 36,
   "id": "58e8d238",
   "metadata": {},
   "outputs": [],
   "source": [
    "notes = np.zeros((nombre_eleves, nombre_matieres))"
   ]
  },
  {
   "cell_type": "code",
   "execution_count": 37,
   "id": "e30e87e2",
   "metadata": {},
   "outputs": [
    {
     "name": "stdout",
     "output_type": "stream",
     "text": [
      "Entrez la note de l'élève 1 pour la matière 1 : 15\n",
      "Entrez la note de l'élève 1 pour la matière 2 : 20\n",
      "Entrez la note de l'élève 2 pour la matière 1 : 16\n",
      "Entrez la note de l'élève 2 pour la matière 2 : 19\n"
     ]
    }
   ],
   "source": [
    "for i in range(nombre_eleves):\n",
    "    for j in range(nombre_matieres):\n",
    "        note = float(input(f\"Entrez la note de l'élève {i + 1} pour la matière {j + 1} : \"))\n",
    "        notes[i, j] = note"
   ]
  },
  {
   "cell_type": "code",
   "execution_count": 38,
   "id": "2afd4e29",
   "metadata": {},
   "outputs": [],
   "source": [
    "notes_totales_par_eleve = np.sum(notes, axis=1)"
   ]
  },
  {
   "cell_type": "code",
   "execution_count": 39,
   "id": "e57cfa1a",
   "metadata": {},
   "outputs": [],
   "source": [
    "pourcentages_par_eleve = (notes_totales_par_eleve / (nombre_matieres * 100)) * 100"
   ]
  },
  {
   "cell_type": "code",
   "execution_count": 43,
   "id": "259aa933",
   "metadata": {},
   "outputs": [],
   "source": [
    "notes_finales_par_eleve = [17]"
   ]
  },
  {
   "cell_type": "code",
   "execution_count": 44,
   "id": "8d977499",
   "metadata": {},
   "outputs": [],
   "source": [
    "for pourcentage in pourcentages_par_eleve:\n",
    "    if pourcentage >= 90:\n",
    "        notes_finales_par_eleve.append(\"A+\")\n",
    "    elif pourcentage >= 80:\n",
    "        notes_finales_par_eleve.append(\"A\")\n",
    "    elif pourcentage >= 70:\n",
    "        notes_finales_par_eleve.append(\"B+\")\n",
    "    elif pourcentage >= 60:\n",
    "        notes_finales_par_eleve.append(\"B\")\n",
    "    elif pourcentage >= 50:\n",
    "        notes_finales_par_eleve.append(\"C\")\n",
    "    else:\n",
    "        notes_finales_par_eleve.append(\"F\")"
   ]
  },
  {
   "cell_type": "code",
   "execution_count": 75,
   "id": "9749a4cc",
   "metadata": {},
   "outputs": [
    {
     "name": "stdout",
     "output_type": "stream",
     "text": [
      "Tableau des notes :\n",
      " [[12. 15.]\n",
      " [20.  4.]]\n",
      "Notes totales par élève :\n",
      " [24.0]\n",
      "Pourcentages par élève :\n",
      " [12.0]\n",
      "Notes finales par élève :\n",
      " []\n"
     ]
    }
   ],
   "source": [
    "print(\"Tableau des notes :\\n\", notes)\n",
    "print(\"Notes totales par élève :\\n\", notes_totales_par_eleve)\n",
    "print(\"Pourcentages par élève :\\n\", pourcentages_par_eleve)\n",
    "print(\"Notes finales par élève :\\n\", notes_finales_par_eleve)"
   ]
  },
  {
   "cell_type": "code",
   "execution_count": 2,
   "id": "7a93e764",
   "metadata": {},
   "outputs": [],
   "source": [
    "import numpy as np"
   ]
  },
  {
   "cell_type": "code",
   "execution_count": 3,
   "id": "4a89243d",
   "metadata": {},
   "outputs": [
    {
     "name": "stdout",
     "output_type": "stream",
     "text": [
      "Entrez le nombre d'élèves : 2\n",
      "Entrez le nombre de matières : 2\n"
     ]
    }
   ],
   "source": [
    "nombre_eleves = int(input(\"Entrez le nombre d'élèves : \"))\n",
    "nombre_matieres = int(input(\"Entrez le nombre de matières : \"))"
   ]
  },
  {
   "cell_type": "code",
   "execution_count": 4,
   "id": "a09dc2e9",
   "metadata": {},
   "outputs": [],
   "source": [
    "notes_eleves = np.zeros((nombre_eleves, nombre_matieres), dtype=int)"
   ]
  },
  {
   "cell_type": "code",
   "execution_count": 6,
   "id": "7c48aaa3",
   "metadata": {},
   "outputs": [
    {
     "name": "stdout",
     "output_type": "stream",
     "text": [
      "\n",
      "Saisie des notes pour l'élève 1:\n",
      "Note pour la matière 1 : 14\n",
      "Note pour la matière 2 : 17\n",
      "\n",
      "Saisie des notes pour l'élève 2:\n",
      "Note pour la matière 1 : 20\n",
      "Note pour la matière 2 : 5\n"
     ]
    }
   ],
   "source": [
    "for i in range(nombre_eleves):\n",
    "    print(f\"\\nSaisie des notes pour l'élève {i + 1}:\")\n",
    "    for j in range(nombre_matieres):\n",
    "        notes_eleves[i, j] = int(input(f\"Note pour la matière {j + 1} : \"))"
   ]
  },
  {
   "cell_type": "code",
   "execution_count": 7,
   "id": "28c39874",
   "metadata": {},
   "outputs": [],
   "source": [
    "notes_totales = np.sum(notes_eleves, axis=1)"
   ]
  },
  {
   "cell_type": "code",
   "execution_count": 8,
   "id": "2d6fa249",
   "metadata": {},
   "outputs": [],
   "source": [
    "pourcentages = (notes_totales / (nombre_matieres * 100)) * 100"
   ]
  },
  {
   "cell_type": "code",
   "execution_count": 11,
   "id": "3acf81a5",
   "metadata": {},
   "outputs": [],
   "source": [
    "notes_finales = np.where(pourcentages >= 20, 'A+',\n",
    "                         np.where(pourcentages >= 18, 'A',\n",
    "                                  np.where(pourcentages >= 15, 'B+',\n",
    "                                           np.where(pourcentages >= 12, 'B',\n",
    "                                                    np.where(pourcentages >= 10, 'C', 'F')))))"
   ]
  },
  {
   "cell_type": "code",
   "execution_count": 12,
   "id": "9ee71770",
   "metadata": {},
   "outputs": [
    {
     "name": "stdout",
     "output_type": "stream",
     "text": [
      "\n",
      "Résultats des élèves :\n",
      "Nom de l'élève  Note totale     Pourcentage     Note finale    \n",
      "Élève 1         31              15.5            B+             \n",
      "Élève 2         25              12.5            B              \n"
     ]
    }
   ],
   "source": [
    "print(\"\\nRésultats des élèves :\")\n",
    "print(\"{:<15} {:<15} {:<15} {:<15}\".format(\"Nom de l'élève\", \"Note totale\", \"Pourcentage\", \"Note finale\"))\n",
    "for i in range(nombre_eleves):\n",
    "    print(\"{:<15} {:<15} {:<15} {:<15}\".format(f\"Élève {i + 1}\", notes_totales[i], pourcentages[i], notes_finales[i]))"
   ]
  },
  {
   "cell_type": "code",
   "execution_count": null,
   "id": "ec25753a",
   "metadata": {},
   "outputs": [],
   "source": []
  }
 ],
 "metadata": {
  "kernelspec": {
   "display_name": "Python 3 (ipykernel)",
   "language": "python",
   "name": "python3"
  },
  "language_info": {
   "codemirror_mode": {
    "name": "ipython",
    "version": 3
   },
   "file_extension": ".py",
   "mimetype": "text/x-python",
   "name": "python",
   "nbconvert_exporter": "python",
   "pygments_lexer": "ipython3",
   "version": "3.11.5"
  }
 },
 "nbformat": 4,
 "nbformat_minor": 5
}
