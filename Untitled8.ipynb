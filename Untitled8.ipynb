{
 "cells": [
  {
   "cell_type": "code",
   "execution_count": 2,
   "id": "32d46e6b",
   "metadata": {},
   "outputs": [],
   "source": [
    "voiture = {\n",
    "    \"marque\": \"toyota\",\n",
    "    \"emplacement\": (1,1)\n",
    "}"
   ]
  },
  {
   "cell_type": "code",
   "execution_count": 3,
   "id": "bb31f289",
   "metadata": {},
   "outputs": [],
   "source": [
    "def deplacer(voiture, x,y):\n",
    "    voiture[\"emplacement\"] = (x, y)"
   ]
  },
  {
   "cell_type": "code",
   "execution_count": 4,
   "id": "2b1dab7a",
   "metadata": {},
   "outputs": [
    {
     "data": {
      "text/plain": [
       "{'marque': 'toyota', 'emplacement': (2, 2)}"
      ]
     },
     "execution_count": 4,
     "metadata": {},
     "output_type": "execute_result"
    }
   ],
   "source": [
    "deplacer(voiture, 2,2)\n",
    "voiture"
   ]
  },
  {
   "cell_type": "code",
   "execution_count": 10,
   "id": "e8867101",
   "metadata": {},
   "outputs": [
    {
     "name": "stdout",
     "output_type": "stream",
     "text": [
      "donner un nombre 999999999999\n"
     ]
    }
   ],
   "source": [
    "L = float(input('donner un nombre'))"
   ]
  },
  {
   "cell_type": "code",
   "execution_count": 38,
   "id": "940b50af",
   "metadata": {},
   "outputs": [
    {
     "data": {
      "text/plain": [
       "<__main__.Voiture at 0x10d1f4b50>"
      ]
     },
     "execution_count": 38,
     "metadata": {},
     "output_type": "execute_result"
    }
   ],
   "source": [
    "class Voiture:\n",
    "    def __init__(self, marque, plaque_de_immatriculation):\n",
    "        self.marque = marque\n",
    "        self.plaque_de_immatriculation = plaque_de_immatriculation\n",
    "        self.puissance_fiscale = puissance_fiscale\n",
    "        \n",
    "    def rouler(self, point_x, point_y):\n",
    "        intial_x, intial_y = self.position\n",
    "        x, y = self.position\n",
    "        distance_x = point_x - initial_x\n",
    "        \n",
    "        for i in range(distance_x):\n",
    "            self.use_fule()\n",
    "    \n",
    "    \n",
    "v = Voiture(\"ferrarie\", 6677863452467008753675434567865432345678765423454365434567898765439076543299876523433454345654567873456898765432345678908765434567890234565434567883987898765409876456787654567890987656789065467654334567897654345678998765433456789098765234567890987654567898765456783456782345645678654567876567898767878987898789878909456787654567876534567876546789876556789876456788765678987657657897678908765478907868976890678909878909890890)\n",
    "v"
   ]
  },
  {
   "cell_type": "code",
   "execution_count": 39,
   "id": "6cfb8728",
   "metadata": {},
   "outputs": [],
   "source": [
    "v1 = Voiture (marque='ferrarie',plaque_de_immatriculation=123456,puissance_fiscale=123456789012342345678012345)"
   ]
  },
  {
   "cell_type": "code",
   "execution_count": 40,
   "id": "cd05540c",
   "metadata": {},
   "outputs": [
    {
     "data": {
      "text/plain": [
       "<__main__.Voiture at 0x10d1f5b90>"
      ]
     },
     "execution_count": 40,
     "metadata": {},
     "output_type": "execute_result"
    }
   ],
   "source": [
    "v1"
   ]
  },
  {
   "cell_type": "code",
   "execution_count": null,
   "id": "e539ddad",
   "metadata": {},
   "outputs": [],
   "source": []
  }
 ],
 "metadata": {
  "kernelspec": {
   "display_name": "Python 3 (ipykernel)",
   "language": "python",
   "name": "python3"
  },
  "language_info": {
   "codemirror_mode": {
    "name": "ipython",
    "version": 3
   },
   "file_extension": ".py",
   "mimetype": "text/x-python",
   "name": "python",
   "nbconvert_exporter": "python",
   "pygments_lexer": "ipython3",
   "version": "3.11.5"
  }
 },
 "nbformat": 4,
 "nbformat_minor": 5
}
