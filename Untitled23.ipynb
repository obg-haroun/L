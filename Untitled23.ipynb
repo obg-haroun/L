{
 "cells": [
  {
   "cell_type": "code",
   "execution_count": 1,
   "id": "f50883b3",
   "metadata": {},
   "outputs": [],
   "source": [
    "def binary_search(lst, target):\n",
    "    left, right = 0, len(lst) - 1\n",
    "\n",
    "    while left <= right:\n",
    "        mid = (left + right) // 2\n",
    "        if lst[mid] == target:\n",
    "            return True\n",
    "        elif lst[mid] < target:\n",
    "            left = mid + 1\n",
    "        else:\n",
    "            right = mid - 1\n",
    "\n",
    "    return False"
   ]
  },
  {
   "cell_type": "code",
   "execution_count": 2,
   "id": "72efb869",
   "metadata": {},
   "outputs": [
    {
     "name": "stdout",
     "output_type": "stream",
     "text": [
      "False\n",
      "True\n"
     ]
    }
   ],
   "source": [
    "print(binary_search([1,2,3,5,8], 6))  # False\n",
    "print(binary_search([1,2,3,5,8], 5))  # True"
   ]
  },
  {
   "cell_type": "code",
   "execution_count": 3,
   "id": "f6a95ae0",
   "metadata": {},
   "outputs": [],
   "source": [
    "def power(a, b):\n",
    "    return a ** b"
   ]
  },
  {
   "cell_type": "code",
   "execution_count": 4,
   "id": "a0bdc284",
   "metadata": {},
   "outputs": [
    {
     "name": "stdout",
     "output_type": "stream",
     "text": [
      "81\n"
     ]
    }
   ],
   "source": [
    "print(power(3, 4))  # 81"
   ]
  },
  {
   "cell_type": "code",
   "execution_count": 5,
   "id": "0eb2936b",
   "metadata": {},
   "outputs": [],
   "source": [
    "def bubble_sort(lst):\n",
    "    n = len(lst)\n",
    "\n",
    "    for i in range(n):\n",
    "        for j in range(0, n-i-1):\n",
    "            if lst[j] > lst[j+1]:\n",
    "                lst[j], lst[j+1] = lst[j+1], lst[j]"
   ]
  },
  {
   "cell_type": "code",
   "execution_count": 6,
   "id": "1e97bca3",
   "metadata": {},
   "outputs": [
    {
     "name": "stdout",
     "output_type": "stream",
     "text": [
      "Résultat attendu : [13, 22, 29, 37, 46, 49, 52, 56, 71]\n"
     ]
    }
   ],
   "source": [
    "data = [29, 13, 22, 37, 52, 49, 46, 71, 56]\n",
    "bubble_sort(data)\n",
    "print(\"Résultat attendu :\", sorted(data))"
   ]
  },
  {
   "cell_type": "code",
   "execution_count": 7,
   "id": "4d5e19dc",
   "metadata": {},
   "outputs": [],
   "source": [
    "def merge_sort(lst):\n",
    "    if len(lst) > 1:\n",
    "        mid = len(lst) // 2\n",
    "        left_half = lst[:mid]\n",
    "        right_half = lst[mid:]\n",
    "\n",
    "        merge_sort(left_half)\n",
    "        merge_sort(right_half)\n",
    "\n",
    "        i = j = k = 0\n",
    "\n",
    "        while i < len(left_half) and j < len(right_half):\n",
    "            if left_half[i] < right_half[j]:\n",
    "                lst[k] = left_half[i]\n",
    "                i += 1\n",
    "            else:\n",
    "                lst[k] = right_half[j]\n",
    "                j += 1\n",
    "            k += 1\n",
    "\n",
    "        while i < len(left_half):\n",
    "            lst[k] = left_half[i]\n",
    "            i += 1\n",
    "            k += 1\n",
    "\n",
    "        while j < len(right_half):\n",
    "            lst[k] = right_half[j]\n",
    "            j += 1\n",
    "            k += 1"
   ]
  },
  {
   "cell_type": "code",
   "execution_count": 8,
   "id": "5aa653b5",
   "metadata": {},
   "outputs": [
    {
     "name": "stdout",
     "output_type": "stream",
     "text": [
      "Résultat attendu : [13, 22, 29, 37, 46, 49, 52, 56, 71]\n"
     ]
    }
   ],
   "source": [
    "data = [29, 13, 22, 37, 52, 49, 46, 71, 56]\n",
    "merge_sort(data)\n",
    "print(\"Résultat attendu :\", sorted(data))"
   ]
  },
  {
   "cell_type": "code",
   "execution_count": 9,
   "id": "5841f11c",
   "metadata": {},
   "outputs": [],
   "source": [
    "def quick_sort(lst):\n",
    "    if len(lst) <= 1:\n",
    "        return lst\n",
    "    else:\n",
    "        pivot = lst[0]\n",
    "        left = [x for x in lst[1:] if x <= pivot]\n",
    "        right = [x for x in lst[1:] if x > pivot]\n",
    "        return quick_sort(left) + [pivot] + quick_sort(right)"
   ]
  },
  {
   "cell_type": "code",
   "execution_count": 10,
   "id": "cea1f0ea",
   "metadata": {},
   "outputs": [
    {
     "name": "stdout",
     "output_type": "stream",
     "text": [
      "Résultat attendu : [13, 22, 29, 37, 46, 49, 52, 56, 71]\n",
      "Résultat obtenu  : [13, 22, 29, 37, 46, 49, 52, 56, 71]\n"
     ]
    }
   ],
   "source": [
    "data = [29, 13, 22, 37, 52, 49, 46, 71, 56]\n",
    "resultat_attendu = sorted(data)\n",
    "data_trie = quick_sort(data)\n",
    "print(\"Résultat attendu :\", resultat_attendu)\n",
    "print(\"Résultat obtenu  :\", data_trie)"
   ]
  },
  {
   "cell_type": "code",
   "execution_count": null,
   "id": "7599de06",
   "metadata": {},
   "outputs": [],
   "source": []
  }
 ],
 "metadata": {
  "kernelspec": {
   "display_name": "Python 3 (ipykernel)",
   "language": "python",
   "name": "python3"
  },
  "language_info": {
   "codemirror_mode": {
    "name": "ipython",
    "version": 3
   },
   "file_extension": ".py",
   "mimetype": "text/x-python",
   "name": "python",
   "nbconvert_exporter": "python",
   "pygments_lexer": "ipython3",
   "version": "3.11.5"
  }
 },
 "nbformat": 4,
 "nbformat_minor": 5
}
